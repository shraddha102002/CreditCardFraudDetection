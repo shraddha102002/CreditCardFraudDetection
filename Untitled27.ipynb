{
 "cells": [
  {
   "cell_type": "markdown",
   "id": "c2334c45",
   "metadata": {},
   "source": [
    "# Credit Card Fraud Detection Machine Learning Model\n",
    "This is a machine learning model that detects fraudulent credit card transactions. The model is built using Python and utilizes supervised learning algorithms to identify fraudulent transactions."
   ]
  },
  {
   "cell_type": "markdown",
   "id": "4594eabd",
   "metadata": {},
   "source": [
    "# Installation\n",
    "To use this machine learning model, you must have Python installed on your system. You can install Python from python.org.\n",
    "\n",
    "Next, clone this repository to your local machine:\n",
    "\n",
    "git clone https://github.com/shraddha102002/CreditCardFraudDetection"
   ]
  },
  {
   "cell_type": "markdown",
   "id": "0135acc1",
   "metadata": {},
   "source": [
    "# Data\n",
    "The data used to train this machine learning model is the Credit Card Fraud Detection dataset from Kaggle. This dataset contains credit card transactions made by European cardholders over a two-day period in September 2013. The dataset contains 284,807 transactions, of which 492 are fraudulent.\n",
    "\n"
   ]
  },
  {
   "cell_type": "markdown",
   "id": "e3f6bd79",
   "metadata": {},
   "source": [
    "# Model\n",
    "The credit card fraud detection model is built using supervised learning algorithms, specifically logistic regression and random forest classifiers. The model is trained on a subset of the Credit Card Fraud Detection dataset and then tested on a separate validation set.\n",
    "\n",
    "The performance of the model is evaluated using metrics such as accuracy, precision, recall, and F1 score.\n",
    "\n"
   ]
  },
  {
   "cell_type": "code",
   "execution_count": null,
   "id": "5c035431",
   "metadata": {},
   "outputs": [],
   "source": []
  }
 ],
 "metadata": {
  "kernelspec": {
   "display_name": "Python 3 (ipykernel)",
   "language": "python",
   "name": "python3"
  },
  "language_info": {
   "codemirror_mode": {
    "name": "ipython",
    "version": 3
   },
   "file_extension": ".py",
   "mimetype": "text/x-python",
   "name": "python",
   "nbconvert_exporter": "python",
   "pygments_lexer": "ipython3",
   "version": "3.9.12"
  }
 },
 "nbformat": 4,
 "nbformat_minor": 5
}
